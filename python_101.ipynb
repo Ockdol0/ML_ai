{
  "cells": [
    {
      "cell_type": "markdown",
      "metadata": {
        "id": "view-in-github",
        "colab_type": "text"
      },
      "source": [
        "<a href=\"https://colab.research.google.com/github/Ockdol0/ML_ai/blob/main/python_101.ipynb\" target=\"_parent\"><img src=\"https://colab.research.google.com/assets/colab-badge.svg\" alt=\"Open In Colab\"/></a>"
      ]
    },
    {
      "cell_type": "markdown",
      "metadata": {
        "id": "qbhuEKbcobTx"
      },
      "source": [
        "# Python 101\n",
        "\n",
        "This is an optional notebook to get you up to speed with Python in case you are new to Python or need a refresher. The material here is a crash course in Python; I highly recommend the [official Python tutorial](https://docs.python.org/3/tutorial/) for a deeper dive. Consider reading [this page](https://docs.python.org/3/tutorial/appetite.html) in the Python docs for background on Python and bookmarking the [glossary](https://docs.python.org/3/glossary.html#glossary).\n",
        "\n",
        "## Basic data types\n",
        "### Numbers\n",
        "Numbers in Python can be represented as integers (e.g. `5`) or floats (e.g. `5.0`). We can perform operations on them:"
      ]
    },
    {
      "cell_type": "code",
      "execution_count": null,
      "metadata": {
        "id": "7kMxtpD_obT1",
        "outputId": "b6d294c4-5399-4200-f61a-564ae67304cd"
      },
      "outputs": [
        {
          "data": {
            "text/plain": [
              "11"
            ]
          },
          "execution_count": 1,
          "metadata": {},
          "output_type": "execute_result"
        }
      ],
      "source": [
        "5 + 6"
      ]
    },
    {
      "cell_type": "code",
      "execution_count": null,
      "metadata": {
        "id": "HzKhZHd7obT4",
        "outputId": "ce7c91ae-c905-4615-f1a1-58e983bf0943"
      },
      "outputs": [
        {
          "data": {
            "text/plain": [
              "0.8333333333333334"
            ]
          },
          "execution_count": 2,
          "metadata": {},
          "output_type": "execute_result"
        }
      ],
      "source": [
        "2.5 / 3"
      ]
    },
    {
      "cell_type": "markdown",
      "metadata": {
        "id": "43Aec0poobT5"
      },
      "source": [
        "### Booleans\n",
        "\n",
        "We can check for equality giving us a Boolean:"
      ]
    },
    {
      "cell_type": "code",
      "execution_count": null,
      "metadata": {
        "id": "rNeaAwIZobT5",
        "outputId": "1ed91cf9-375d-49f0-8d2d-57ec5039b1d7"
      },
      "outputs": [
        {
          "data": {
            "text/plain": [
              "False"
            ]
          },
          "execution_count": 3,
          "metadata": {},
          "output_type": "execute_result"
        }
      ],
      "source": [
        "5 == 6"
      ]
    },
    {
      "cell_type": "code",
      "execution_count": null,
      "metadata": {
        "id": "Qh_tXRQJobT6",
        "outputId": "5b55540e-d730-4a77-b43d-e138b8aec4b0"
      },
      "outputs": [
        {
          "data": {
            "text/plain": [
              "True"
            ]
          },
          "execution_count": 4,
          "metadata": {},
          "output_type": "execute_result"
        }
      ],
      "source": [
        "5 < 6"
      ]
    },
    {
      "cell_type": "markdown",
      "metadata": {
        "id": "Y3msriB5obT6"
      },
      "source": [
        "These statements can be combined with logical operators: `not`, `and`, `or`"
      ]
    },
    {
      "cell_type": "code",
      "execution_count": null,
      "metadata": {
        "id": "vy_dVxuGobT7",
        "outputId": "1aec0ee5-110e-4736-ce00-f79967487769"
      },
      "outputs": [
        {
          "data": {
            "text/plain": [
              "True"
            ]
          },
          "execution_count": 5,
          "metadata": {},
          "output_type": "execute_result"
        }
      ],
      "source": [
        "(5 < 6) and not (5 == 6)"
      ]
    },
    {
      "cell_type": "code",
      "execution_count": null,
      "metadata": {
        "id": "DCKnkYcNobT8",
        "outputId": "a793ee01-bda6-4fa9-b8f8-6469f0542e3a"
      },
      "outputs": [
        {
          "data": {
            "text/plain": [
              "True"
            ]
          },
          "execution_count": 6,
          "metadata": {},
          "output_type": "execute_result"
        }
      ],
      "source": [
        "False or True"
      ]
    },
    {
      "cell_type": "code",
      "execution_count": null,
      "metadata": {
        "id": "il09LCzFobT8",
        "outputId": "82cf0066-9edd-4f53-ee32-41fab70dfe09"
      },
      "outputs": [
        {
          "data": {
            "text/plain": [
              "True"
            ]
          },
          "execution_count": 7,
          "metadata": {},
          "output_type": "execute_result"
        }
      ],
      "source": [
        "True or False"
      ]
    },
    {
      "cell_type": "markdown",
      "metadata": {
        "id": "fTo40l1cobT9"
      },
      "source": [
        "### Strings\n",
        "Using strings, we can handle text in Python. These values must be surrounded in quotes &mdash; single (`'...'`) is the standard, but double (`\"...\"`) works as well:"
      ]
    },
    {
      "cell_type": "code",
      "execution_count": null,
      "metadata": {
        "id": "V4P1TRU5obT9",
        "outputId": "efc21d61-8717-4adc-b663-b15739c7ffba"
      },
      "outputs": [
        {
          "data": {
            "text/plain": [
              "'hello'"
            ]
          },
          "execution_count": 8,
          "metadata": {},
          "output_type": "execute_result"
        }
      ],
      "source": [
        "'hello'"
      ]
    },
    {
      "cell_type": "markdown",
      "metadata": {
        "id": "6uD-hpIMobT-"
      },
      "source": [
        "We can also perform operations on strings. For example, we can see how long it is with `len()`:"
      ]
    },
    {
      "cell_type": "code",
      "execution_count": null,
      "metadata": {
        "id": "7GaJQdD1obT-",
        "outputId": "bba02449-5b8c-4762-c36d-a264919c3734"
      },
      "outputs": [
        {
          "data": {
            "text/plain": [
              "5"
            ]
          },
          "execution_count": 9,
          "metadata": {},
          "output_type": "execute_result"
        }
      ],
      "source": [
        "len('hello')"
      ]
    },
    {
      "cell_type": "markdown",
      "metadata": {
        "id": "ZYsnnOviobT-"
      },
      "source": [
        "We can select parts of the string by specifying the **index**. Note that in Python the 1<sup>st</sup> character is at index 0:"
      ]
    },
    {
      "cell_type": "code",
      "execution_count": null,
      "metadata": {
        "id": "xQTP60LRobT-",
        "outputId": "6ac41e21-5771-47de-df59-a4fc2705d95d"
      },
      "outputs": [
        {
          "data": {
            "text/plain": [
              "'h'"
            ]
          },
          "execution_count": 10,
          "metadata": {},
          "output_type": "execute_result"
        }
      ],
      "source": [
        "'hello'[0]"
      ]
    },
    {
      "cell_type": "markdown",
      "metadata": {
        "id": "JO-0GPjAobT_"
      },
      "source": [
        "We can concatentate strings with `+`:"
      ]
    },
    {
      "cell_type": "code",
      "execution_count": null,
      "metadata": {
        "id": "RXmSNqBGobT_",
        "outputId": "b9d073bc-813b-4472-899e-5f8b3762db17"
      },
      "outputs": [
        {
          "data": {
            "text/plain": [
              "'hello world'"
            ]
          },
          "execution_count": 11,
          "metadata": {},
          "output_type": "execute_result"
        }
      ],
      "source": [
        "'hello' + ' ' + 'world'"
      ]
    },
    {
      "cell_type": "markdown",
      "metadata": {
        "id": "6rAQwAKNobT_"
      },
      "source": [
        "We can check if characters are in the string with the `in` operator:"
      ]
    },
    {
      "cell_type": "code",
      "execution_count": null,
      "metadata": {
        "id": "7lBdVrbyobUA",
        "outputId": "6b7316b1-8da6-414b-e2be-9f100ecd8c26"
      },
      "outputs": [
        {
          "data": {
            "text/plain": [
              "True"
            ]
          },
          "execution_count": 12,
          "metadata": {},
          "output_type": "execute_result"
        }
      ],
      "source": [
        "'h' in 'hello'"
      ]
    },
    {
      "cell_type": "markdown",
      "metadata": {
        "id": "x_iWIr26obUA"
      },
      "source": [
        "## Variables\n",
        "Notice that just typing text causes an error. Errors in Python attempt to clue us in to what went wrong with our code. In this case, we have a `NameError` exception which tells us that `'hello'` is not defined. This means that [the Python interpreter](https://docs.python.org/3/tutorial/interpreter.html) looked for a **variable** named `hello`, but it didn't find one."
      ]
    },
    {
      "cell_type": "code",
      "execution_count": null,
      "metadata": {
        "id": "YqRlsr6ZobUA",
        "outputId": "9bd1107f-a792-41dd-ab98-6cd3532884de"
      },
      "outputs": [
        {
          "ename": "NameError",
          "evalue": "name 'hello' is not defined",
          "output_type": "error",
          "traceback": [
            "\u001b[0;31m---------------------------------------------------------------------------\u001b[0m",
            "\u001b[0;31mNameError\u001b[0m                                 Traceback (most recent call last)",
            "\u001b[0;32m<ipython-input-13-f572d396fae9>\u001b[0m in \u001b[0;36m<module>\u001b[0;34m\u001b[0m\n\u001b[0;32m----> 1\u001b[0;31m \u001b[0mhello\u001b[0m\u001b[0;34m\u001b[0m\u001b[0;34m\u001b[0m\u001b[0m\n\u001b[0m",
            "\u001b[0;31mNameError\u001b[0m: name 'hello' is not defined"
          ]
        }
      ],
      "source": [
        "hello"
      ]
    },
    {
      "cell_type": "markdown",
      "metadata": {
        "id": "3k1SK0YpobUA"
      },
      "source": [
        "Variables give us a way to store data types. We define a variable using the `variable_name = value` syntax:"
      ]
    },
    {
      "cell_type": "code",
      "execution_count": null,
      "metadata": {
        "id": "Se0Yp9roobUA",
        "outputId": "188ba166-c219-4181-b0c7-8efea20290a6"
      },
      "outputs": [
        {
          "data": {
            "text/plain": [
              "12"
            ]
          },
          "execution_count": 14,
          "metadata": {},
          "output_type": "execute_result"
        }
      ],
      "source": [
        "x = 5\n",
        "y = 7\n",
        "x + y"
      ]
    },
    {
      "cell_type": "markdown",
      "metadata": {
        "id": "aeJ6VKO6obUB"
      },
      "source": [
        "The variable name cannot contain spaces; we usually use `_` instead. The best variable names are descriptive ones:"
      ]
    },
    {
      "cell_type": "code",
      "execution_count": null,
      "metadata": {
        "id": "d6vPqxILobUB"
      },
      "outputs": [],
      "source": [
        "book_title = 'Hands-On Data Analysis with Pandas'"
      ]
    },
    {
      "cell_type": "markdown",
      "metadata": {
        "id": "0GjTYg9CobUB"
      },
      "source": [
        "Variables can be any data type. We can check which one it is with `type()`, which is a **function** (more on that later):"
      ]
    },
    {
      "cell_type": "code",
      "execution_count": null,
      "metadata": {
        "id": "Si83uyeFobUB",
        "outputId": "b512062c-cec5-4aa9-f9bb-4ad56dfc0d5e"
      },
      "outputs": [
        {
          "data": {
            "text/plain": [
              "int"
            ]
          },
          "execution_count": 16,
          "metadata": {},
          "output_type": "execute_result"
        }
      ],
      "source": [
        "type(x)"
      ]
    },
    {
      "cell_type": "code",
      "execution_count": null,
      "metadata": {
        "id": "ZWc-omUNobUB",
        "outputId": "92bc67f7-ccb6-42bc-f116-f61d67f56c6a"
      },
      "outputs": [
        {
          "data": {
            "text/plain": [
              "str"
            ]
          },
          "execution_count": 17,
          "metadata": {},
          "output_type": "execute_result"
        }
      ],
      "source": [
        "type(book_title)"
      ]
    },
    {
      "cell_type": "markdown",
      "metadata": {
        "id": "-kCKBK2RobUC"
      },
      "source": [
        "If we need to see the value of a variable, we can print it using the `print()` function:"
      ]
    },
    {
      "cell_type": "code",
      "execution_count": null,
      "metadata": {
        "id": "WzuraOtsobUC",
        "outputId": "514e7ea0-d995-4d94-f010-7508ad9ccf02"
      },
      "outputs": [
        {
          "name": "stdout",
          "output_type": "stream",
          "text": [
            "Hands-On Data Analysis with Pandas\n"
          ]
        }
      ],
      "source": [
        "print(book_title)"
      ]
    },
    {
      "cell_type": "markdown",
      "metadata": {
        "id": "G_xb0wl6obUC"
      },
      "source": [
        "## Collections of Items\n",
        "\n",
        "### Lists\n",
        "We can store a collection of items in a list:"
      ]
    },
    {
      "cell_type": "code",
      "execution_count": null,
      "metadata": {
        "id": "NyffVHV4obUC",
        "outputId": "1d3a0269-4dbb-4d24-d27c-0769dcbc893b"
      },
      "outputs": [
        {
          "data": {
            "text/plain": [
              "['hello', ' ', 'world']"
            ]
          },
          "execution_count": 19,
          "metadata": {},
          "output_type": "execute_result"
        }
      ],
      "source": [
        "['hello', ' ', 'world']"
      ]
    },
    {
      "cell_type": "markdown",
      "metadata": {
        "id": "QeCz9VucobUD"
      },
      "source": [
        "The list can be stored in a variable. Note that the items in the list can be of different types:"
      ]
    },
    {
      "cell_type": "code",
      "execution_count": null,
      "metadata": {
        "id": "rMuMactmobUD",
        "outputId": "ca7b0a58-dd89-4c6d-fb37-dc71d732880c"
      },
      "outputs": [
        {
          "data": {
            "text/plain": [
              "list"
            ]
          },
          "execution_count": 20,
          "metadata": {},
          "output_type": "execute_result"
        }
      ],
      "source": [
        "my_list = ['hello', 3.8, True, 'Python']\n",
        "type(my_list)"
      ]
    },
    {
      "cell_type": "markdown",
      "metadata": {
        "id": "ZYr65tewobUD"
      },
      "source": [
        "We can see how many elements are in the list with `len()`:"
      ]
    },
    {
      "cell_type": "code",
      "execution_count": null,
      "metadata": {
        "id": "Lp6TKuUtobUD",
        "outputId": "9fbf2ef8-3ce7-4615-8abc-ee0ca901d1de"
      },
      "outputs": [
        {
          "data": {
            "text/plain": [
              "4"
            ]
          },
          "execution_count": 21,
          "metadata": {},
          "output_type": "execute_result"
        }
      ],
      "source": [
        "len(my_list)"
      ]
    },
    {
      "cell_type": "markdown",
      "metadata": {
        "id": "EkNuHegmobUD"
      },
      "source": [
        "We can also use the `in` operator to check if a value is in the list:"
      ]
    },
    {
      "cell_type": "code",
      "execution_count": null,
      "metadata": {
        "id": "QLBVz6uCobUE",
        "outputId": "a04072cb-4830-477a-802d-3e06c1942669"
      },
      "outputs": [
        {
          "data": {
            "text/plain": [
              "False"
            ]
          },
          "execution_count": 22,
          "metadata": {},
          "output_type": "execute_result"
        }
      ],
      "source": [
        "'world' in my_list"
      ]
    },
    {
      "cell_type": "markdown",
      "metadata": {
        "id": "Ut3HGj5uobUJ"
      },
      "source": [
        "We can select items in the list just as we did with strings, by providing the index to select:"
      ]
    },
    {
      "cell_type": "code",
      "execution_count": null,
      "metadata": {
        "id": "9jAFGtd6obUJ",
        "outputId": "a5a41c7f-2593-49b6-8229-6e798b6e5571"
      },
      "outputs": [
        {
          "data": {
            "text/plain": [
              "3.8"
            ]
          },
          "execution_count": 23,
          "metadata": {},
          "output_type": "execute_result"
        }
      ],
      "source": [
        "my_list[1]"
      ]
    },
    {
      "cell_type": "markdown",
      "metadata": {
        "id": "OOPNCGszobUJ"
      },
      "source": [
        "Python also allows us to use negative values, so we can easily select the last one:"
      ]
    },
    {
      "cell_type": "code",
      "execution_count": null,
      "metadata": {
        "id": "GhNJGejtobUK",
        "outputId": "71ab6a59-f523-48d1-cddd-b68adb617e69"
      },
      "outputs": [
        {
          "data": {
            "text/plain": [
              "'Python'"
            ]
          },
          "execution_count": 24,
          "metadata": {},
          "output_type": "execute_result"
        }
      ],
      "source": [
        "my_list[-1]"
      ]
    },
    {
      "cell_type": "markdown",
      "metadata": {
        "id": "hONzc0p7obUK"
      },
      "source": [
        "Another powerful feature of lists (and strings) is **slicing**. We can grab the middle 2 elements in the list:"
      ]
    },
    {
      "cell_type": "code",
      "execution_count": null,
      "metadata": {
        "id": "RpKpe0XRobUK",
        "outputId": "fed705ce-52e9-487f-ab2a-46c6555edd04"
      },
      "outputs": [
        {
          "data": {
            "text/plain": [
              "[3.8, True]"
            ]
          },
          "execution_count": 25,
          "metadata": {},
          "output_type": "execute_result"
        }
      ],
      "source": [
        "my_list[1:3]"
      ]
    },
    {
      "cell_type": "markdown",
      "metadata": {
        "id": "uZsB8y1QobUK"
      },
      "source": [
        "... or every other one:"
      ]
    },
    {
      "cell_type": "code",
      "execution_count": null,
      "metadata": {
        "id": "_enNacDQobUL",
        "outputId": "e3560181-5384-4259-f955-cd4a028507a0"
      },
      "outputs": [
        {
          "data": {
            "text/plain": [
              "['hello', True]"
            ]
          },
          "execution_count": 26,
          "metadata": {},
          "output_type": "execute_result"
        }
      ],
      "source": [
        "my_list[::2]"
      ]
    },
    {
      "cell_type": "markdown",
      "metadata": {
        "id": "opewz-YOobUL"
      },
      "source": [
        "We can even select the list in reverse:"
      ]
    },
    {
      "cell_type": "code",
      "execution_count": null,
      "metadata": {
        "id": "7xYfH_6BobUL",
        "outputId": "61254769-b590-4079-d501-bb4cde7159d3"
      },
      "outputs": [
        {
          "data": {
            "text/plain": [
              "['Python', True, 3.8, 'hello']"
            ]
          },
          "execution_count": 27,
          "metadata": {},
          "output_type": "execute_result"
        }
      ],
      "source": [
        "my_list[::-1]"
      ]
    },
    {
      "cell_type": "markdown",
      "metadata": {
        "id": "uvbYIBncobUM"
      },
      "source": [
        "Note: This syntax is `[start:stop:step]` where the selection is inclusive of the start index, but exclusive of the stop index. If `start` isn't provided, `0` is used. If `stop` isn't provided, the number of elements is used (4, in our case); this works because the `stop` is exclusive. If `step` isn't provided, it is 1.\n",
        "\n",
        "We can use the `join()` method on a string object to concatenate all the items of a list into single string. The string we call the `join()` method on will be used as the separator, here we separate with a pipe (|):"
      ]
    },
    {
      "cell_type": "code",
      "execution_count": null,
      "metadata": {
        "id": "QwmpponCobUM",
        "outputId": "e3bdf5a5-2ba2-4d48-c2e2-32ea292025ab"
      },
      "outputs": [
        {
          "data": {
            "text/plain": [
              "'x|y|z'"
            ]
          },
          "execution_count": 28,
          "metadata": {},
          "output_type": "execute_result"
        }
      ],
      "source": [
        "'|'.join(['x', 'y', 'z'])"
      ]
    },
    {
      "cell_type": "markdown",
      "metadata": {
        "id": "Ivg9XcKzobUM"
      },
      "source": [
        "### Tuples\n",
        "Tuples are similar to lists; however, they can't be modified after creation i.e. they are **immutable**. Instead of square brackets, we use parenthesis to create tuples:"
      ]
    },
    {
      "cell_type": "code",
      "execution_count": null,
      "metadata": {
        "id": "2Wc7yG0mobUM",
        "outputId": "f9a505da-1dd4-4756-d0e2-bd96724396d3"
      },
      "outputs": [
        {
          "data": {
            "text/plain": [
              "tuple"
            ]
          },
          "execution_count": 29,
          "metadata": {},
          "output_type": "execute_result"
        }
      ],
      "source": [
        "my_tuple = ('a', 5)\n",
        "type(my_tuple)"
      ]
    },
    {
      "cell_type": "code",
      "execution_count": null,
      "metadata": {
        "id": "EVNEn3TUobUN",
        "outputId": "a888f5de-ce37-4279-ee60-a78519bce7ae"
      },
      "outputs": [
        {
          "data": {
            "text/plain": [
              "'a'"
            ]
          },
          "execution_count": 30,
          "metadata": {},
          "output_type": "execute_result"
        }
      ],
      "source": [
        "my_tuple[0]"
      ]
    },
    {
      "cell_type": "markdown",
      "metadata": {
        "id": "wJ403rwMobUN"
      },
      "source": [
        "Immutable objects can't be modified:"
      ]
    },
    {
      "cell_type": "code",
      "execution_count": null,
      "metadata": {
        "id": "SE9fY_IdobUN",
        "outputId": "63b738a0-61eb-45cc-a718-68dd98f9da81"
      },
      "outputs": [
        {
          "ename": "TypeError",
          "evalue": "'tuple' object does not support item assignment",
          "output_type": "error",
          "traceback": [
            "\u001b[0;31m---------------------------------------------------------------------------\u001b[0m",
            "\u001b[0;31mTypeError\u001b[0m                                 Traceback (most recent call last)",
            "\u001b[0;32m<ipython-input-31-f792d047bcee>\u001b[0m in \u001b[0;36m<module>\u001b[0;34m\u001b[0m\n\u001b[0;32m----> 1\u001b[0;31m \u001b[0mmy_tuple\u001b[0m\u001b[0;34m[\u001b[0m\u001b[0;36m0\u001b[0m\u001b[0;34m]\u001b[0m \u001b[0;34m=\u001b[0m \u001b[0;34m'b'\u001b[0m\u001b[0;34m\u001b[0m\u001b[0;34m\u001b[0m\u001b[0m\n\u001b[0m",
            "\u001b[0;31mTypeError\u001b[0m: 'tuple' object does not support item assignment"
          ]
        }
      ],
      "source": [
        "my_tuple[0] = 'b'"
      ]
    },
    {
      "cell_type": "markdown",
      "metadata": {
        "id": "DsjEU-fgobUO"
      },
      "source": [
        "### Dictionaries\n",
        "We can store mappings of key-value pairs using dictionaries:"
      ]
    },
    {
      "cell_type": "code",
      "execution_count": null,
      "metadata": {
        "id": "vOKC5CJpobUO",
        "outputId": "41880ce1-4045-493a-a8ca-ced5274770ac"
      },
      "outputs": [
        {
          "data": {
            "text/plain": [
              "dict"
            ]
          },
          "execution_count": 32,
          "metadata": {},
          "output_type": "execute_result"
        }
      ],
      "source": [
        "shopping_list = {\n",
        "    'veggies': ['spinach', 'kale', 'beets'],\n",
        "    'fruits': 'bananas',\n",
        "    'meat': 0\n",
        "}\n",
        "type(shopping_list)"
      ]
    },
    {
      "cell_type": "markdown",
      "metadata": {
        "id": "No2q6hHIobUO"
      },
      "source": [
        "To access the values associated with a specific key, we use the square bracket notation again:"
      ]
    },
    {
      "cell_type": "code",
      "execution_count": null,
      "metadata": {
        "id": "OGKaTRdTobUO",
        "outputId": "ea7ea9b2-8410-4f94-f152-c94a26b75d2a"
      },
      "outputs": [
        {
          "data": {
            "text/plain": [
              "['spinach', 'kale', 'beets']"
            ]
          },
          "execution_count": 33,
          "metadata": {},
          "output_type": "execute_result"
        }
      ],
      "source": [
        "shopping_list['veggies']"
      ]
    },
    {
      "cell_type": "markdown",
      "metadata": {
        "id": "UiRvEIq6obUP"
      },
      "source": [
        "We can extract all of the keys with `keys()`:"
      ]
    },
    {
      "cell_type": "code",
      "execution_count": null,
      "metadata": {
        "id": "sf46MqpoobUP",
        "outputId": "8210fa76-5402-48a8-f383-bc3969f18511"
      },
      "outputs": [
        {
          "data": {
            "text/plain": [
              "dict_keys(['veggies', 'fruits', 'meat'])"
            ]
          },
          "execution_count": 34,
          "metadata": {},
          "output_type": "execute_result"
        }
      ],
      "source": [
        "shopping_list.keys()"
      ]
    },
    {
      "cell_type": "markdown",
      "metadata": {
        "id": "hHi9uxiSobUP"
      },
      "source": [
        "We can extract all of the values with `values()`:"
      ]
    },
    {
      "cell_type": "code",
      "execution_count": null,
      "metadata": {
        "id": "SytkGyYKobUQ",
        "outputId": "091be3d0-2731-469b-bec0-52101997f018"
      },
      "outputs": [
        {
          "data": {
            "text/plain": [
              "dict_values([['spinach', 'kale', 'beets'], 'bananas', 0])"
            ]
          },
          "execution_count": 35,
          "metadata": {},
          "output_type": "execute_result"
        }
      ],
      "source": [
        "shopping_list.values()"
      ]
    },
    {
      "cell_type": "markdown",
      "metadata": {
        "id": "6yDRHbhSobUQ"
      },
      "source": [
        "Finally, we can call `items()` to get back pairs of (key, value) pairs:"
      ]
    },
    {
      "cell_type": "code",
      "execution_count": null,
      "metadata": {
        "id": "TOcKLbMiobUQ",
        "outputId": "8d710158-6b3d-444f-a0dd-663129b64b6c"
      },
      "outputs": [
        {
          "data": {
            "text/plain": [
              "dict_items([('veggies', ['spinach', 'kale', 'beets']), ('fruits', 'bananas'), ('meat', 0)])"
            ]
          },
          "execution_count": 36,
          "metadata": {},
          "output_type": "execute_result"
        }
      ],
      "source": [
        "shopping_list.items()"
      ]
    },
    {
      "cell_type": "markdown",
      "metadata": {
        "id": "FHAHhj6wobUR"
      },
      "source": [
        "### Sets\n",
        "A set is a collection of unique items; a common use is to remove duplicates from a list. These are written with curly braces also, but notice there is no key-value mapping:"
      ]
    },
    {
      "cell_type": "code",
      "execution_count": null,
      "metadata": {
        "id": "mIkMb6o9obUR",
        "outputId": "4b62abf8-fd91-40ba-8856-29aebe52ba87"
      },
      "outputs": [
        {
          "data": {
            "text/plain": [
              "set"
            ]
          },
          "execution_count": 37,
          "metadata": {},
          "output_type": "execute_result"
        }
      ],
      "source": [
        "my_set = {1, 1, 2, 'a'}\n",
        "type(my_set)"
      ]
    },
    {
      "cell_type": "markdown",
      "metadata": {
        "id": "uacYCCUhobUR"
      },
      "source": [
        "How many items are in this set?"
      ]
    },
    {
      "cell_type": "code",
      "execution_count": null,
      "metadata": {
        "id": "i-GX_sNIobUR",
        "outputId": "702338f4-074c-4f09-d428-6a44d97afcfd"
      },
      "outputs": [
        {
          "data": {
            "text/plain": [
              "3"
            ]
          },
          "execution_count": 38,
          "metadata": {},
          "output_type": "execute_result"
        }
      ],
      "source": [
        "len(my_set)"
      ]
    },
    {
      "cell_type": "markdown",
      "metadata": {
        "id": "jgzWYV9robUS"
      },
      "source": [
        "We put in 4 items but the set only has 3 because duplicates are removed:"
      ]
    },
    {
      "cell_type": "code",
      "execution_count": null,
      "metadata": {
        "id": "o0408wRnobUS",
        "outputId": "c0d87eda-0b62-4317-8518-9940c2561c0e"
      },
      "outputs": [
        {
          "data": {
            "text/plain": [
              "{1, 2, 'a'}"
            ]
          },
          "execution_count": 39,
          "metadata": {},
          "output_type": "execute_result"
        }
      ],
      "source": [
        "my_set"
      ]
    },
    {
      "cell_type": "markdown",
      "metadata": {
        "id": "n_qdD21yobUS"
      },
      "source": [
        "We can check if a value is in the set:"
      ]
    },
    {
      "cell_type": "code",
      "execution_count": null,
      "metadata": {
        "id": "-i09m3boobUS",
        "outputId": "0d6fc305-65bf-4acb-df39-a7846944bb07"
      },
      "outputs": [
        {
          "data": {
            "text/plain": [
              "True"
            ]
          },
          "execution_count": 40,
          "metadata": {},
          "output_type": "execute_result"
        }
      ],
      "source": [
        "2 in my_set"
      ]
    },
    {
      "cell_type": "markdown",
      "metadata": {
        "id": "cLUfjAn6obUS"
      },
      "source": [
        "## Functions\n",
        "We can define functions to package up our code for reuse. We have already seen some functions: `len()`, `type()`, and `print()`. They are all functions that take **arguments**. Note that functions don't need to accept arguments, in which case they are called without passing in anything (e.g. `print()` versus `print(my_string)`).\n",
        "\n",
        "*Aside: we can also create lists, sets, dictionaries, and tuples with functions: `list()`, `set()`, `dict()`, and `tuple()`*\n",
        "\n",
        "### Defining functions\n",
        "\n",
        "We use the `def` keyword to define functions. Let's create a function called `add()` with 2 parameters, `x` and `y`, which will be the names the code in the function will use to refer to the arguments we pass in when calling it:"
      ]
    },
    {
      "cell_type": "code",
      "execution_count": null,
      "metadata": {
        "id": "1PU6GbIuobUT"
      },
      "outputs": [],
      "source": [
        "def add(x, y):\n",
        "    \"\"\"This is a docstring. It is used to explain how the code works and is optional (but encouraged).\"\"\"\n",
        "    # this is a comment; it allows us to annotate the code\n",
        "    print('Performing addition')\n",
        "    return x + y"
      ]
    },
    {
      "cell_type": "markdown",
      "metadata": {
        "id": "9ce5rIXvobUT"
      },
      "source": [
        "Once we run the code above, our function is ready to use:"
      ]
    },
    {
      "cell_type": "code",
      "execution_count": null,
      "metadata": {
        "id": "PDlwmd_DobUT",
        "outputId": "625cfe05-7aea-43a0-c075-6cec3ba69c31"
      },
      "outputs": [
        {
          "data": {
            "text/plain": [
              "function"
            ]
          },
          "execution_count": 42,
          "metadata": {},
          "output_type": "execute_result"
        }
      ],
      "source": [
        "type(add)"
      ]
    },
    {
      "cell_type": "markdown",
      "metadata": {
        "id": "1fc_fuq2obUT"
      },
      "source": [
        "Let's add some numbers:"
      ]
    },
    {
      "cell_type": "code",
      "execution_count": null,
      "metadata": {
        "id": "FSjpxFhBobUU",
        "outputId": "b4482ad1-00fe-4b86-ba3f-d5f64cec386b"
      },
      "outputs": [
        {
          "name": "stdout",
          "output_type": "stream",
          "text": [
            "Performing addition\n"
          ]
        },
        {
          "data": {
            "text/plain": [
              "3"
            ]
          },
          "execution_count": 43,
          "metadata": {},
          "output_type": "execute_result"
        }
      ],
      "source": [
        "add(1, 2)"
      ]
    },
    {
      "cell_type": "markdown",
      "metadata": {
        "id": "ODhfwpmoobUU"
      },
      "source": [
        "### Return values\n",
        "We can store the result in a variable for later:"
      ]
    },
    {
      "cell_type": "code",
      "execution_count": null,
      "metadata": {
        "id": "F0URh-iEobUU",
        "outputId": "2573774c-0943-46ca-e813-78433bf67341"
      },
      "outputs": [
        {
          "name": "stdout",
          "output_type": "stream",
          "text": [
            "Performing addition\n"
          ]
        }
      ],
      "source": [
        "result = add(1, 2)"
      ]
    },
    {
      "cell_type": "markdown",
      "metadata": {
        "id": "X4dB5QQmobUU"
      },
      "source": [
        "Notice the print statement wasn't captured in `result`. This variable will only have what the function **returns**. This is what the `return` line in the function definition did:"
      ]
    },
    {
      "cell_type": "code",
      "execution_count": null,
      "metadata": {
        "id": "UKMNSuNSobUV",
        "outputId": "53bfbe0c-efc3-4bc4-ab32-0f0eebbca8b7"
      },
      "outputs": [
        {
          "data": {
            "text/plain": [
              "3"
            ]
          },
          "execution_count": 45,
          "metadata": {},
          "output_type": "execute_result"
        }
      ],
      "source": [
        "result"
      ]
    },
    {
      "cell_type": "markdown",
      "metadata": {
        "id": "1uiZbUG_obUV"
      },
      "source": [
        "Note that functions don't have to return anything. Consider `print()`:"
      ]
    },
    {
      "cell_type": "code",
      "execution_count": null,
      "metadata": {
        "id": "Yl2Nt1bPobUV",
        "outputId": "0d308494-1348-418b-9c6a-b37924789e8f"
      },
      "outputs": [
        {
          "name": "stdout",
          "output_type": "stream",
          "text": [
            "hello world\n"
          ]
        }
      ],
      "source": [
        "print_result = print('hello world')"
      ]
    },
    {
      "cell_type": "markdown",
      "metadata": {
        "id": "5RbjhkerobUV"
      },
      "source": [
        "If we take a look at what we got back, we see it is a `NoneType` object:"
      ]
    },
    {
      "cell_type": "code",
      "execution_count": null,
      "metadata": {
        "id": "ZaBRluoQobUV",
        "outputId": "1fdabb9a-37c6-47ca-9036-41ac1a716d58"
      },
      "outputs": [
        {
          "data": {
            "text/plain": [
              "NoneType"
            ]
          },
          "execution_count": 47,
          "metadata": {},
          "output_type": "execute_result"
        }
      ],
      "source": [
        "type(print_result)"
      ]
    },
    {
      "cell_type": "markdown",
      "metadata": {
        "id": "bn8x9SGIobUW"
      },
      "source": [
        "In Python, the value `None` represents null values. We can check if our variable *is* `None`:"
      ]
    },
    {
      "cell_type": "code",
      "execution_count": null,
      "metadata": {
        "id": "DFzTwyI3obUW",
        "outputId": "d9256c95-d2c7-45b5-9e3a-444bebf4bb11"
      },
      "outputs": [
        {
          "data": {
            "text/plain": [
              "True"
            ]
          },
          "execution_count": 48,
          "metadata": {},
          "output_type": "execute_result"
        }
      ],
      "source": [
        "print_result is None"
      ]
    },
    {
      "cell_type": "markdown",
      "metadata": {
        "id": "TkkKGvZcobUW"
      },
      "source": [
        "*Warning: make sure to use comparison operators (e.g. >, >=, <, <=, ==, !=) to compare to values other than `None`.*\n",
        "\n",
        "### Function arguments\n",
        "\n",
        "*Note that function arguments can be anything, even other functions. We will see several examples of this in the text.*\n",
        "\n",
        "The function we defined requires arguments. If we don't provide them all, it will cause an error:"
      ]
    },
    {
      "cell_type": "code",
      "execution_count": null,
      "metadata": {
        "id": "V5BSZx79obUW",
        "outputId": "36bbdc0e-7ab1-4cd5-bbf5-6888bc5758dc"
      },
      "outputs": [
        {
          "ename": "TypeError",
          "evalue": "add() missing 1 required positional argument: 'y'",
          "output_type": "error",
          "traceback": [
            "\u001b[0;31m---------------------------------------------------------------------------\u001b[0m",
            "\u001b[0;31mTypeError\u001b[0m                                 Traceback (most recent call last)",
            "\u001b[0;32m<ipython-input-49-2558a051bacf>\u001b[0m in \u001b[0;36m<module>\u001b[0;34m\u001b[0m\n\u001b[0;32m----> 1\u001b[0;31m \u001b[0madd\u001b[0m\u001b[0;34m(\u001b[0m\u001b[0;36m1\u001b[0m\u001b[0;34m)\u001b[0m\u001b[0;34m\u001b[0m\u001b[0;34m\u001b[0m\u001b[0m\n\u001b[0m",
            "\u001b[0;31mTypeError\u001b[0m: add() missing 1 required positional argument: 'y'"
          ]
        }
      ],
      "source": [
        "add(1)"
      ]
    },
    {
      "cell_type": "markdown",
      "metadata": {
        "id": "nrLEt7sDobUX"
      },
      "source": [
        "We can use `help()` to check what arguments the function needs (notice the docstring ends up here):"
      ]
    },
    {
      "cell_type": "code",
      "execution_count": null,
      "metadata": {
        "id": "Ji_VC90eobUX",
        "outputId": "dbd943a2-2fa9-4ab2-985d-991145fdac8d"
      },
      "outputs": [
        {
          "name": "stdout",
          "output_type": "stream",
          "text": [
            "Help on function add in module __main__:\n",
            "\n",
            "add(x, y)\n",
            "    This is a docstring. It is used to explain how the code works and is optional (but encouraged).\n",
            "\n"
          ]
        }
      ],
      "source": [
        "help(add)"
      ]
    },
    {
      "cell_type": "markdown",
      "metadata": {
        "id": "GjPq-4aRobUX"
      },
      "source": [
        "We will also get errors if we pass in data types that `add()` can't work with:"
      ]
    },
    {
      "cell_type": "code",
      "execution_count": null,
      "metadata": {
        "id": "DmeI7UjhobUX",
        "outputId": "73e4fd9b-3022-4388-ccaa-90ef90881c42"
      },
      "outputs": [
        {
          "name": "stdout",
          "output_type": "stream",
          "text": [
            "Performing addition\n"
          ]
        },
        {
          "ename": "TypeError",
          "evalue": "unsupported operand type(s) for +: 'set' and 'set'",
          "output_type": "error",
          "traceback": [
            "\u001b[0;31m---------------------------------------------------------------------------\u001b[0m",
            "\u001b[0;31mTypeError\u001b[0m                                 Traceback (most recent call last)",
            "\u001b[0;32m<ipython-input-51-9c946942295c>\u001b[0m in \u001b[0;36m<module>\u001b[0;34m\u001b[0m\n\u001b[0;32m----> 1\u001b[0;31m \u001b[0madd\u001b[0m\u001b[0;34m(\u001b[0m\u001b[0mset\u001b[0m\u001b[0;34m(\u001b[0m\u001b[0;34m)\u001b[0m\u001b[0;34m,\u001b[0m \u001b[0mset\u001b[0m\u001b[0;34m(\u001b[0m\u001b[0;34m)\u001b[0m\u001b[0;34m)\u001b[0m\u001b[0;34m\u001b[0m\u001b[0;34m\u001b[0m\u001b[0m\n\u001b[0m",
            "\u001b[0;32m<ipython-input-41-e34d07952248>\u001b[0m in \u001b[0;36madd\u001b[0;34m(x, y)\u001b[0m\n\u001b[1;32m      3\u001b[0m     \u001b[0;31m# this is a comment; it allows us to annotate the code\u001b[0m\u001b[0;34m\u001b[0m\u001b[0;34m\u001b[0m\u001b[0;34m\u001b[0m\u001b[0m\n\u001b[1;32m      4\u001b[0m     \u001b[0mprint\u001b[0m\u001b[0;34m(\u001b[0m\u001b[0;34m'Performing addition'\u001b[0m\u001b[0;34m)\u001b[0m\u001b[0;34m\u001b[0m\u001b[0;34m\u001b[0m\u001b[0m\n\u001b[0;32m----> 5\u001b[0;31m     \u001b[0;32mreturn\u001b[0m \u001b[0mx\u001b[0m \u001b[0;34m+\u001b[0m \u001b[0my\u001b[0m\u001b[0;34m\u001b[0m\u001b[0;34m\u001b[0m\u001b[0m\n\u001b[0m",
            "\u001b[0;31mTypeError\u001b[0m: unsupported operand type(s) for +: 'set' and 'set'"
          ]
        }
      ],
      "source": [
        "add(set(), set())"
      ]
    },
    {
      "cell_type": "markdown",
      "metadata": {
        "id": "0StQNaPGobUX"
      },
      "source": [
        "We will discuss error handling in the text.\n",
        "\n",
        "## Control Flow Statements\n",
        "Sometimes we want to vary the path the code takes based on some criteria. For this we have `if`, `elif`, and `else`. We can use `if` on its own:"
      ]
    },
    {
      "cell_type": "code",
      "execution_count": null,
      "metadata": {
        "id": "-PIlZ5fzobUX"
      },
      "outputs": [],
      "source": [
        "def make_positive(x):\n",
        "    \"\"\"Returns a positive x\"\"\"\n",
        "    if x < 0:\n",
        "        x *= -1\n",
        "    return x"
      ]
    },
    {
      "cell_type": "markdown",
      "metadata": {
        "id": "9_mhgsDuobUY"
      },
      "source": [
        "Calling this function with negative input causes the code under the `if` statement to run:"
      ]
    },
    {
      "cell_type": "code",
      "execution_count": null,
      "metadata": {
        "id": "xqeGqmj6obUY",
        "outputId": "bee61f35-1bf9-415a-ab90-aaf07fa0244e"
      },
      "outputs": [
        {
          "data": {
            "text/plain": [
              "1"
            ]
          },
          "execution_count": 53,
          "metadata": {},
          "output_type": "execute_result"
        }
      ],
      "source": [
        "make_positive(-1)"
      ]
    },
    {
      "cell_type": "markdown",
      "metadata": {
        "id": "Pkqbp_rJobUY"
      },
      "source": [
        "Calling this function with positive input skips the code under the `if` statement, keeping the number positive:"
      ]
    },
    {
      "cell_type": "code",
      "execution_count": null,
      "metadata": {
        "id": "61Qr7QHhobUZ",
        "outputId": "6acb76d9-5983-4b8d-810a-b740dffcb21e"
      },
      "outputs": [
        {
          "data": {
            "text/plain": [
              "2"
            ]
          },
          "execution_count": 54,
          "metadata": {},
          "output_type": "execute_result"
        }
      ],
      "source": [
        "make_positive(2)"
      ]
    },
    {
      "cell_type": "markdown",
      "metadata": {
        "id": "XeLoLSiaobUZ"
      },
      "source": [
        "Sometimes we need an `else` statement as well:"
      ]
    },
    {
      "cell_type": "code",
      "execution_count": null,
      "metadata": {
        "id": "a5LyIs0DobUZ"
      },
      "outputs": [],
      "source": [
        "def add_or_subtract(operation, x, y):\n",
        "    if operation == 'add':\n",
        "        return x + y\n",
        "    else:\n",
        "        return x - y"
      ]
    },
    {
      "cell_type": "markdown",
      "metadata": {
        "id": "GlkiBXXtobUZ"
      },
      "source": [
        "This triggers the code under the `if` statement:"
      ]
    },
    {
      "cell_type": "code",
      "execution_count": null,
      "metadata": {
        "id": "B3pP7XwXobUZ",
        "outputId": "d68bca81-af49-4372-d431-180b9028931b"
      },
      "outputs": [
        {
          "data": {
            "text/plain": [
              "3"
            ]
          },
          "execution_count": 56,
          "metadata": {},
          "output_type": "execute_result"
        }
      ],
      "source": [
        "add_or_subtract('add', 1, 2)"
      ]
    },
    {
      "cell_type": "markdown",
      "metadata": {
        "id": "gsY_GmrhobUa"
      },
      "source": [
        "Since the Boolean check in the `if` statement was `False`, this triggers the code under the `else` statement:"
      ]
    },
    {
      "cell_type": "code",
      "execution_count": null,
      "metadata": {
        "id": "o9PL57MTobUa",
        "outputId": "9151a344-e5bb-4894-98e2-93fbe284d5fb"
      },
      "outputs": [
        {
          "data": {
            "text/plain": [
              "-1"
            ]
          },
          "execution_count": 57,
          "metadata": {},
          "output_type": "execute_result"
        }
      ],
      "source": [
        "add_or_subtract('subtract', 1, 2)"
      ]
    },
    {
      "cell_type": "markdown",
      "metadata": {
        "id": "UnQ4LyBdobUa"
      },
      "source": [
        "For more complicated logic, we can also use `elif`. We can have any number of `elif` statements. Optionally, we can include `else`."
      ]
    },
    {
      "cell_type": "code",
      "execution_count": null,
      "metadata": {
        "id": "vJmLmZ5yobUa"
      },
      "outputs": [],
      "source": [
        "def calculate(operation, x, y):\n",
        "    if operation == 'add':\n",
        "        return x + y\n",
        "    elif operation == 'subtract':\n",
        "        return x - y\n",
        "    elif operation == 'multiply':\n",
        "        return x * y\n",
        "    elif operation == 'division':\n",
        "        return x / y\n",
        "    else:\n",
        "        print(\"This case hasn't been handled\")"
      ]
    },
    {
      "cell_type": "markdown",
      "metadata": {
        "id": "EbSKo7s0obUb"
      },
      "source": [
        "The code keeps checking the conditions in the `if` statements from top to bottom until it finds `multiply`:"
      ]
    },
    {
      "cell_type": "code",
      "execution_count": null,
      "metadata": {
        "id": "K5_-evRjobUb",
        "outputId": "d7d1f2f4-baeb-4eb4-f031-ddc42eb90254"
      },
      "outputs": [
        {
          "data": {
            "text/plain": [
              "12"
            ]
          },
          "execution_count": 59,
          "metadata": {},
          "output_type": "execute_result"
        }
      ],
      "source": [
        "calculate('multiply', 3, 4)"
      ]
    },
    {
      "cell_type": "markdown",
      "metadata": {
        "id": "mmPSJMXkobUb"
      },
      "source": [
        "The code keeps checking the conditions in the `if` statements from top to bottom until it hits the `else` statement:"
      ]
    },
    {
      "cell_type": "code",
      "execution_count": null,
      "metadata": {
        "id": "x0hl3NHTobUb",
        "outputId": "6ce03c54-ea08-404a-cc75-9776495bd69c"
      },
      "outputs": [
        {
          "name": "stdout",
          "output_type": "stream",
          "text": [
            "This case hasn't been handled\n"
          ]
        }
      ],
      "source": [
        "calculate('power', 3, 4)"
      ]
    },
    {
      "cell_type": "markdown",
      "metadata": {
        "id": "d3HXiqvTobUc"
      },
      "source": [
        "## Loops\n",
        "### `while` loops\n",
        "With `while` loops, we can keep running code until some stopping condition is met:"
      ]
    },
    {
      "cell_type": "code",
      "execution_count": null,
      "metadata": {
        "id": "3TIhlbJlobUc",
        "outputId": "f82bb927-5e41-42c1-fcd3-0763412c5d93"
      },
      "outputs": [
        {
          "name": "stdout",
          "output_type": "stream",
          "text": [
            "Still going... 2\n",
            "Still going... 4\n",
            "Still going... 8\n"
          ]
        }
      ],
      "source": [
        "done = False\n",
        "value = 2\n",
        "while not done:\n",
        "    print('Still going...', value)\n",
        "    value *= 2\n",
        "    if value > 10:\n",
        "        done = True"
      ]
    },
    {
      "cell_type": "markdown",
      "metadata": {
        "id": "gomY-vTpobUc"
      },
      "source": [
        "Note this can also be written as, by moving the condition to the `while` statement:"
      ]
    },
    {
      "cell_type": "code",
      "execution_count": null,
      "metadata": {
        "id": "o77U__WfobUc",
        "outputId": "e041f34f-88ac-4940-cb0c-591050f7188f"
      },
      "outputs": [
        {
          "name": "stdout",
          "output_type": "stream",
          "text": [
            "Still going... 2\n",
            "Still going... 4\n",
            "Still going... 8\n"
          ]
        }
      ],
      "source": [
        "value = 2\n",
        "while value < 10:\n",
        "    print('Still going...', value)\n",
        "    value *= 2"
      ]
    },
    {
      "cell_type": "markdown",
      "metadata": {
        "id": "EcJziEcwobUd"
      },
      "source": [
        "### `for` loops\n",
        "With `for` loops, we can run our code *for each* element in a collection:"
      ]
    },
    {
      "cell_type": "code",
      "execution_count": null,
      "metadata": {
        "id": "jUUON4yDobUd",
        "outputId": "eb643d18-0c86-4ce4-9414-3fcb5b270d5b"
      },
      "outputs": [
        {
          "name": "stdout",
          "output_type": "stream",
          "text": [
            "0\n",
            "1\n",
            "2\n",
            "3\n",
            "4\n"
          ]
        }
      ],
      "source": [
        "for i in range(5):\n",
        "    print(i)"
      ]
    },
    {
      "cell_type": "markdown",
      "metadata": {
        "id": "Bpy2kHORobUd"
      },
      "source": [
        "We can use `for` loops with lists, tuples, sets, and dictionaries as well:"
      ]
    },
    {
      "cell_type": "code",
      "execution_count": null,
      "metadata": {
        "id": "dB5BeJBwobUd",
        "outputId": "875404d9-f851-4c75-d9a3-8d7abb254757"
      },
      "outputs": [
        {
          "name": "stdout",
          "output_type": "stream",
          "text": [
            "hello\n",
            "3.8\n",
            "True\n",
            "Python\n"
          ]
        }
      ],
      "source": [
        "for element in my_list:\n",
        "    print(element)"
      ]
    },
    {
      "cell_type": "code",
      "execution_count": null,
      "metadata": {
        "id": "eKDpGe8dobUd",
        "outputId": "8ac30102-2b3a-4dbf-9dd6-f9d509eaee3c"
      },
      "outputs": [
        {
          "name": "stdout",
          "output_type": "stream",
          "text": [
            "For veggies we need to buy ['spinach', 'kale', 'beets']\n",
            "For fruits we need to buy bananas\n",
            "For meat we need to buy 0\n"
          ]
        }
      ],
      "source": [
        "for key, value in shopping_list.items():\n",
        "    print('For', key, 'we need to buy', value)"
      ]
    },
    {
      "cell_type": "markdown",
      "metadata": {
        "id": "VWlkJbAoobUe"
      },
      "source": [
        "With `for` loops, we don't have to worry about checking if we have reached the stopping condition. Conversely, `while` loops can cause infinite loops if we don't remember to update variables.\n",
        "\n",
        "## Imports\n",
        "We have been working with the portion of Python that is available without importing additional functionality. The Python standard library that comes with the install of Python is broken up into several **modules**, but we often only need a few. We can import whatever we need: a module in the standard library, a 3rd-party library, or code that we wrote. This is done with an `import` statement:"
      ]
    },
    {
      "cell_type": "code",
      "execution_count": null,
      "metadata": {
        "id": "OVMcOjN4obUe",
        "outputId": "05e32858-d954-461f-f6e4-e205628dcef0"
      },
      "outputs": [
        {
          "name": "stdout",
          "output_type": "stream",
          "text": [
            "3.141592653589793\n"
          ]
        }
      ],
      "source": [
        "import math\n",
        "\n",
        "print(math.pi)"
      ]
    },
    {
      "cell_type": "markdown",
      "metadata": {
        "id": "w2-w6ahrobUe"
      },
      "source": [
        "If we only need a small piece from that module, we can do the following instead:"
      ]
    },
    {
      "cell_type": "code",
      "execution_count": null,
      "metadata": {
        "id": "sjRFW5l7obUf",
        "outputId": "f317a2cd-afb8-435e-85fb-d17e786b73ff"
      },
      "outputs": [
        {
          "name": "stdout",
          "output_type": "stream",
          "text": [
            "3.141592653589793\n"
          ]
        }
      ],
      "source": [
        "from math import pi\n",
        "\n",
        "print(pi)"
      ]
    },
    {
      "cell_type": "markdown",
      "metadata": {
        "id": "hXcfoYyzobUf"
      },
      "source": [
        "*Warning: anything you import is added to the namespace, so if you create a new variable/function/etc. with the same name it will overwrite the previous value. For this reason, we have to be careful with variable names e.g. if you name something `sum`, you won't be able to add using the `sum()` built-in function anymore. Using notebooks or an IDE will help you avoid these issues with syntax highlighting.*\n",
        "\n",
        "## Installing 3rd-party Packages\n",
        "**NOTE: We will cover the environment setup in the text; this is for reference.**\n",
        "\n",
        "We can use [`pip`](https://pip.pypa.io/en/stable/reference/) or [`conda`](https://docs.conda.io/projects/conda/en/latest/commands.html) to install packages, depending on how we created our virtual environment. The text walks through the commands to create virtual environments with `venv` and `conda`. The environment **MUST** be activated before installing the packages for this text; otherwise, it's possible they interfere with other projects on your machine or vice versa.\n",
        "\n",
        "To install a package, we can use `pip3 install <package_name>`. Optionally, we can provide a specific version to install `pip3 install pandas==0.23.4`. Without that specification, we will get the most stable version. When we have many packages to install (as we do for this book), we will typically use a `requirements.txt` file: `pip3 install -r requirements.txt`.\n",
        "\n",
        "*Note: running `pip3 freeze > requirements.txt` will send the list of packages installed in the activate environment and their respective versions to the `requirements.txt` file.*\n",
        "\n",
        "\n",
        "## Classes\n",
        "*NOTE: We will discuss this further in the text in chapter 7. For now, it is important to be aware of the syntax in this section.*\n",
        "\n",
        "So far we have used Python as a functional programming language, but we also have the option to use it for **object-oriented programming**. You can think of a `class` as a way to group similar functionality together. Let's create a calculator class which can handle mathematical operations for us. For this, we use the `class` keyword and define **methods** for taking actions on the calculator. These methods are functions that take `self` as the first argument. When calling them, we don't pass in anything for that argument (example after this):"
      ]
    },
    {
      "cell_type": "code",
      "execution_count": null,
      "metadata": {
        "id": "RKVjIZcSobUf"
      },
      "outputs": [],
      "source": [
        "class Calculator:\n",
        "    \"\"\"This is the class docstring.\"\"\"\n",
        "\n",
        "    def __init__(self):\n",
        "        \"\"\"This is a method and it is called when we create an object of type `Calculator`.\"\"\"\n",
        "        self.on = False\n",
        "\n",
        "    def turn_on(self):\n",
        "        \"\"\"This method turns on the calculator.\"\"\"\n",
        "        self.on = True\n",
        "\n",
        "    def add(self, x, y):\n",
        "        \"\"\"Perform addition if calculator is on\"\"\"\n",
        "        if self.on:\n",
        "            return x + y\n",
        "        else:\n",
        "            print('the calculator is not on')"
      ]
    },
    {
      "cell_type": "markdown",
      "metadata": {
        "id": "LdN55KeAobUf"
      },
      "source": [
        "In order to use the calculator, we need to **instantiate** an instance or object of type `Calculator`. Since the `__init__()` method has no parameters other than `self`, we don't need to provide anything:"
      ]
    },
    {
      "cell_type": "code",
      "execution_count": null,
      "metadata": {
        "id": "CFErOj28obUf"
      },
      "outputs": [],
      "source": [
        "my_calculator = Calculator()"
      ]
    },
    {
      "cell_type": "markdown",
      "metadata": {
        "id": "xhYt_74MobUg"
      },
      "source": [
        "Let's try to add some numbers:"
      ]
    },
    {
      "cell_type": "code",
      "execution_count": null,
      "metadata": {
        "id": "CFQrzeOJobUg",
        "outputId": "a544296e-f53e-4c61-875e-24454dedc991"
      },
      "outputs": [
        {
          "name": "stdout",
          "output_type": "stream",
          "text": [
            "the calculator is not on\n"
          ]
        }
      ],
      "source": [
        "my_calculator.add(1, 2)"
      ]
    },
    {
      "cell_type": "markdown",
      "metadata": {
        "id": "b6DO0GOtobUg"
      },
      "source": [
        "Oops!! The calculator is not on. Let's turn it on:"
      ]
    },
    {
      "cell_type": "code",
      "execution_count": null,
      "metadata": {
        "id": "tnQ5lFiPobUg"
      },
      "outputs": [],
      "source": [
        "my_calculator.turn_on()"
      ]
    },
    {
      "cell_type": "markdown",
      "metadata": {
        "id": "Bi66iJZZobUh"
      },
      "source": [
        "Let's try again:"
      ]
    },
    {
      "cell_type": "code",
      "execution_count": null,
      "metadata": {
        "id": "FOxZQrMgobUh",
        "outputId": "e831c0bf-180b-4e85-c266-4e72fb9a5837"
      },
      "outputs": [
        {
          "data": {
            "text/plain": [
              "3"
            ]
          },
          "execution_count": 72,
          "metadata": {},
          "output_type": "execute_result"
        }
      ],
      "source": [
        "my_calculator.add(1, 2)"
      ]
    },
    {
      "cell_type": "markdown",
      "metadata": {
        "id": "sSs8xPJbobUh"
      },
      "source": [
        "We can access **attributes** on object with dot notation. In this example, the only attribute is `on`, and it is set in the `__init__()` method:"
      ]
    },
    {
      "cell_type": "code",
      "execution_count": null,
      "metadata": {
        "id": "PbI8OsTmobUh",
        "outputId": "53de88ec-2166-4146-a8dd-5078a341f90e"
      },
      "outputs": [
        {
          "data": {
            "text/plain": [
              "True"
            ]
          },
          "execution_count": 73,
          "metadata": {},
          "output_type": "execute_result"
        }
      ],
      "source": [
        "my_calculator.on"
      ]
    },
    {
      "cell_type": "markdown",
      "metadata": {
        "id": "KjHq-T7FobUh"
      },
      "source": [
        "Note that we can also update attributes:"
      ]
    },
    {
      "cell_type": "code",
      "execution_count": null,
      "metadata": {
        "id": "Q-I7yfjFobUi",
        "outputId": "f8290e3f-f769-427f-ade6-fe2f0c11a8ac"
      },
      "outputs": [
        {
          "name": "stdout",
          "output_type": "stream",
          "text": [
            "the calculator is not on\n"
          ]
        }
      ],
      "source": [
        "my_calculator.on = False\n",
        "my_calculator.add(1, 2)"
      ]
    },
    {
      "cell_type": "markdown",
      "metadata": {
        "id": "sVGfua2wobUi"
      },
      "source": [
        "Finally, we can use `help()` to get more information on the object:"
      ]
    },
    {
      "cell_type": "code",
      "execution_count": null,
      "metadata": {
        "id": "Xy-53E_WobUi",
        "outputId": "362baa5b-8c18-4537-b6f0-a4ac94dd92f0"
      },
      "outputs": [
        {
          "name": "stdout",
          "output_type": "stream",
          "text": [
            "Help on Calculator in module __main__ object:\n",
            "\n",
            "class Calculator(builtins.object)\n",
            " |  This is the class docstring.\n",
            " |  \n",
            " |  Methods defined here:\n",
            " |  \n",
            " |  __init__(self)\n",
            " |      This is a method and it is called when we create an object of type `Calculator`.\n",
            " |  \n",
            " |  add(self, x, y)\n",
            " |      Perform addition if calculator is on\n",
            " |  \n",
            " |  turn_on(self)\n",
            " |      This method turns on the calculator.\n",
            " |  \n",
            " |  ----------------------------------------------------------------------\n",
            " |  Data descriptors defined here:\n",
            " |  \n",
            " |  __dict__\n",
            " |      dictionary for instance variables (if defined)\n",
            " |  \n",
            " |  __weakref__\n",
            " |      list of weak references to the object (if defined)\n",
            "\n"
          ]
        }
      ],
      "source": [
        "help(my_calculator)"
      ]
    },
    {
      "cell_type": "markdown",
      "metadata": {
        "id": "DnJ2R-WyobUi"
      },
      "source": [
        "... and also for a method:"
      ]
    },
    {
      "cell_type": "code",
      "execution_count": null,
      "metadata": {
        "id": "Ku4_zoqGobUj",
        "outputId": "bbba6d53-11d4-49e2-b958-356addfdb5dc"
      },
      "outputs": [
        {
          "name": "stdout",
          "output_type": "stream",
          "text": [
            "Help on method add in module __main__:\n",
            "\n",
            "add(x, y) method of __main__.Calculator instance\n",
            "    Perform addition if calculator is on\n",
            "\n"
          ]
        }
      ],
      "source": [
        "help(my_calculator.add)"
      ]
    },
    {
      "cell_type": "markdown",
      "metadata": {
        "id": "cY4WXfr8obUj"
      },
      "source": [
        "## Next Steps\n",
        "This was a crash course in Python. By no means are you expected to be an expert in the language to start working through the text. Take some time to play around with this notebook before trying [this chapter's exercises](./exercises.ipynb).\n",
        "\n",
        "<hr>\n",
        "<div style=\"overflow: hidden; margin-bottom: 10px;\">\n",
        "    <div style=\"float: left;\">\n",
        "         <a href=\"./introduction_to_data_analysis.ipynb\">\n",
        "            <button>&#8592; Introduction to Data Analysis</button>\n",
        "        </a>\n",
        "    </div>\n",
        "    <div style=\"float: right;\">\n",
        "        <a href=\"./check_your_setup.ipynb\">\n",
        "            <button>Check your Setup</button>\n",
        "        </a>\n",
        "        <a href=\"./exercises.ipynb\">\n",
        "            <button>Chapter 1 Exercises &#8594;</button>\n",
        "        </a>\n",
        "    </div>\n",
        "</div>\n",
        "<hr>"
      ]
    }
  ],
  "metadata": {
    "kernelspec": {
      "display_name": "Python 3",
      "language": "python",
      "name": "python3"
    },
    "language_info": {
      "codemirror_mode": {
        "name": "ipython",
        "version": 3
      },
      "file_extension": ".py",
      "mimetype": "text/x-python",
      "name": "python",
      "nbconvert_exporter": "python",
      "pygments_lexer": "ipython3",
      "version": "3.7.3"
    },
    "colab": {
      "provenance": [],
      "include_colab_link": true
    }
  },
  "nbformat": 4,
  "nbformat_minor": 0
}